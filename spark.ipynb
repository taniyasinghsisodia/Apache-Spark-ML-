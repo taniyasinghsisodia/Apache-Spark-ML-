{
  "nbformat": 4,
  "nbformat_minor": 0,
  "metadata": {
    "colab": {
      "name": "spark.ipynb",
      "provenance": [],
      "authorship_tag": "ABX9TyNrv2KBGjE9NPI0TCpp/OaH"
    },
    "kernelspec": {
      "name": "python3",
      "display_name": "Python 3"
    }
  },
  "cells": [
    {
      "cell_type": "code",
      "metadata": {
        "colab": {
          "base_uri": "https://localhost:8080/"
        },
        "id": "jF4lLHwKa2Sf",
        "outputId": "b7944e4e-945d-47b7-c4c8-124bacbcc615"
      },
      "source": [
        "!pip3 install pyspark"
      ],
      "execution_count": 1,
      "outputs": [
        {
          "output_type": "stream",
          "text": [
            "Collecting pyspark\n",
            "\u001b[?25l  Downloading https://files.pythonhosted.org/packages/f0/26/198fc8c0b98580f617cb03cb298c6056587b8f0447e20fa40c5b634ced77/pyspark-3.0.1.tar.gz (204.2MB)\n",
            "\u001b[K     |████████████████████████████████| 204.2MB 65kB/s \n",
            "\u001b[?25hCollecting py4j==0.10.9\n",
            "\u001b[?25l  Downloading https://files.pythonhosted.org/packages/9e/b6/6a4fb90cd235dc8e265a6a2067f2a2c99f0d91787f06aca4bcf7c23f3f80/py4j-0.10.9-py2.py3-none-any.whl (198kB)\n",
            "\u001b[K     |████████████████████████████████| 204kB 21.3MB/s \n",
            "\u001b[?25hBuilding wheels for collected packages: pyspark\n",
            "  Building wheel for pyspark (setup.py) ... \u001b[?25l\u001b[?25hdone\n",
            "  Created wheel for pyspark: filename=pyspark-3.0.1-py2.py3-none-any.whl size=204612243 sha256=fdb2e7f95eded0ca0d0510130cf450e00ed409819f11ae6630cc44dd434166f2\n",
            "  Stored in directory: /root/.cache/pip/wheels/5e/bd/07/031766ca628adec8435bb40f0bd83bb676ce65ff4007f8e73f\n",
            "Successfully built pyspark\n",
            "Installing collected packages: py4j, pyspark\n",
            "Successfully installed py4j-0.10.9 pyspark-3.0.1\n"
          ],
          "name": "stdout"
        }
      ]
    },
    {
      "cell_type": "code",
      "metadata": {
        "id": "PDv-GS7YbsB8"
      },
      "source": [
        "import pyspark"
      ],
      "execution_count": 2,
      "outputs": []
    },
    {
      "cell_type": "code",
      "metadata": {
        "colab": {
          "base_uri": "https://localhost:8080/",
          "height": 36
        },
        "id": "3aJZSjktcTiV",
        "outputId": "c829f70b-2e1c-469a-e746-f94f31b25fd1"
      },
      "source": [
        "pyspark.__version__"
      ],
      "execution_count": 3,
      "outputs": [
        {
          "output_type": "execute_result",
          "data": {
            "application/vnd.google.colaboratory.intrinsic+json": {
              "type": "string"
            },
            "text/plain": [
              "'3.0.1'"
            ]
          },
          "metadata": {
            "tags": []
          },
          "execution_count": 3
        }
      ]
    },
    {
      "cell_type": "markdown",
      "metadata": {
        "id": "F7vyqxUUnng6"
      },
      "source": [
        "#**Loading the data into Spark**"
      ]
    },
    {
      "cell_type": "code",
      "metadata": {
        "id": "ViL4Sa-TccJ3"
      },
      "source": [
        "from pyspark.sql import SparkSession\r\n",
        "spark = SparkSession \\\r\n",
        "    .builder \\\r\n",
        "    .appName('Titanic Data') \\\r\n",
        "    .getOrCreate()"
      ],
      "execution_count": 5,
      "outputs": []
    },
    {
      "cell_type": "code",
      "metadata": {
        "colab": {
          "base_uri": "https://localhost:8080/",
          "height": 222
        },
        "id": "DJ9PqgkKcloy",
        "outputId": "12778c3b-a8f4-4a86-93ed-93b18a53bb01"
      },
      "source": [
        "spark"
      ],
      "execution_count": 6,
      "outputs": [
        {
          "output_type": "execute_result",
          "data": {
            "text/html": [
              "\n",
              "            <div>\n",
              "                <p><b>SparkSession - in-memory</b></p>\n",
              "                \n",
              "        <div>\n",
              "            <p><b>SparkContext</b></p>\n",
              "\n",
              "            <p><a href=\"http://5222d040c8ac:4040\">Spark UI</a></p>\n",
              "\n",
              "            <dl>\n",
              "              <dt>Version</dt>\n",
              "                <dd><code>v3.0.1</code></dd>\n",
              "              <dt>Master</dt>\n",
              "                <dd><code>local[*]</code></dd>\n",
              "              <dt>AppName</dt>\n",
              "                <dd><code>Titanic Data</code></dd>\n",
              "            </dl>\n",
              "        </div>\n",
              "        \n",
              "            </div>\n",
              "        "
            ],
            "text/plain": [
              "<pyspark.sql.session.SparkSession at 0x7fa9cd882588>"
            ]
          },
          "metadata": {
            "tags": []
          },
          "execution_count": 6
        }
      ]
    },
    {
      "cell_type": "code",
      "metadata": {
        "id": "kr6o85BYdExQ"
      },
      "source": [
        "df = (spark.read\r\n",
        "          .format(\"csv\")\r\n",
        "          .option('header', 'true')\r\n",
        "          .load(\"train(1).csv\"))"
      ],
      "execution_count": 8,
      "outputs": []
    },
    {
      "cell_type": "code",
      "metadata": {
        "colab": {
          "base_uri": "https://localhost:8080/"
        },
        "id": "26L3qHU3dauN",
        "outputId": "409a4369-fb9d-4952-a9bc-52cfba445367"
      },
      "source": [
        "df.head(5)"
      ],
      "execution_count": 10,
      "outputs": [
        {
          "output_type": "execute_result",
          "data": {
            "text/plain": [
              "[Row(PassengerId='1', Survived='0', Pclass='3', Name='Braund, Mr. Owen Harris', Sex='male', Age='22', SibSp='1', Parch='0', Ticket='A/5 21171', Fare='7.25', Cabin=None, Embarked='S'),\n",
              " Row(PassengerId='2', Survived='1', Pclass='1', Name='Cumings, Mrs. John Bradley (Florence Briggs Thayer)', Sex='female', Age='38', SibSp='1', Parch='0', Ticket='PC 17599', Fare='71.2833', Cabin='C85', Embarked='C'),\n",
              " Row(PassengerId='3', Survived='1', Pclass='3', Name='Heikkinen, Miss. Laina', Sex='female', Age='26', SibSp='0', Parch='0', Ticket='STON/O2. 3101282', Fare='7.925', Cabin=None, Embarked='S'),\n",
              " Row(PassengerId='4', Survived='1', Pclass='1', Name='Futrelle, Mrs. Jacques Heath (Lily May Peel)', Sex='female', Age='35', SibSp='1', Parch='0', Ticket='113803', Fare='53.1', Cabin='C123', Embarked='S'),\n",
              " Row(PassengerId='5', Survived='0', Pclass='3', Name='Allen, Mr. William Henry', Sex='male', Age='35', SibSp='0', Parch='0', Ticket='373450', Fare='8.05', Cabin=None, Embarked='S')]"
            ]
          },
          "metadata": {
            "tags": []
          },
          "execution_count": 10
        }
      ]
    },
    {
      "cell_type": "code",
      "metadata": {
        "colab": {
          "base_uri": "https://localhost:8080/",
          "height": 511
        },
        "id": "-h8fxyyfetea",
        "outputId": "eb68d510-af2b-4cb2-a4a6-641aeb5d49ed"
      },
      "source": [
        "df.toPandas()"
      ],
      "execution_count": 11,
      "outputs": [
        {
          "output_type": "execute_result",
          "data": {
            "text/html": [
              "<div>\n",
              "<style scoped>\n",
              "    .dataframe tbody tr th:only-of-type {\n",
              "        vertical-align: middle;\n",
              "    }\n",
              "\n",
              "    .dataframe tbody tr th {\n",
              "        vertical-align: top;\n",
              "    }\n",
              "\n",
              "    .dataframe thead th {\n",
              "        text-align: right;\n",
              "    }\n",
              "</style>\n",
              "<table border=\"1\" class=\"dataframe\">\n",
              "  <thead>\n",
              "    <tr style=\"text-align: right;\">\n",
              "      <th></th>\n",
              "      <th>PassengerId</th>\n",
              "      <th>Survived</th>\n",
              "      <th>Pclass</th>\n",
              "      <th>Name</th>\n",
              "      <th>Sex</th>\n",
              "      <th>Age</th>\n",
              "      <th>SibSp</th>\n",
              "      <th>Parch</th>\n",
              "      <th>Ticket</th>\n",
              "      <th>Fare</th>\n",
              "      <th>Cabin</th>\n",
              "      <th>Embarked</th>\n",
              "    </tr>\n",
              "  </thead>\n",
              "  <tbody>\n",
              "    <tr>\n",
              "      <th>0</th>\n",
              "      <td>1</td>\n",
              "      <td>0</td>\n",
              "      <td>3</td>\n",
              "      <td>Braund, Mr. Owen Harris</td>\n",
              "      <td>male</td>\n",
              "      <td>22</td>\n",
              "      <td>1</td>\n",
              "      <td>0</td>\n",
              "      <td>A/5 21171</td>\n",
              "      <td>7.25</td>\n",
              "      <td>None</td>\n",
              "      <td>S</td>\n",
              "    </tr>\n",
              "    <tr>\n",
              "      <th>1</th>\n",
              "      <td>2</td>\n",
              "      <td>1</td>\n",
              "      <td>1</td>\n",
              "      <td>Cumings, Mrs. John Bradley (Florence Briggs Th...</td>\n",
              "      <td>female</td>\n",
              "      <td>38</td>\n",
              "      <td>1</td>\n",
              "      <td>0</td>\n",
              "      <td>PC 17599</td>\n",
              "      <td>71.2833</td>\n",
              "      <td>C85</td>\n",
              "      <td>C</td>\n",
              "    </tr>\n",
              "    <tr>\n",
              "      <th>2</th>\n",
              "      <td>3</td>\n",
              "      <td>1</td>\n",
              "      <td>3</td>\n",
              "      <td>Heikkinen, Miss. Laina</td>\n",
              "      <td>female</td>\n",
              "      <td>26</td>\n",
              "      <td>0</td>\n",
              "      <td>0</td>\n",
              "      <td>STON/O2. 3101282</td>\n",
              "      <td>7.925</td>\n",
              "      <td>None</td>\n",
              "      <td>S</td>\n",
              "    </tr>\n",
              "    <tr>\n",
              "      <th>3</th>\n",
              "      <td>4</td>\n",
              "      <td>1</td>\n",
              "      <td>1</td>\n",
              "      <td>Futrelle, Mrs. Jacques Heath (Lily May Peel)</td>\n",
              "      <td>female</td>\n",
              "      <td>35</td>\n",
              "      <td>1</td>\n",
              "      <td>0</td>\n",
              "      <td>113803</td>\n",
              "      <td>53.1</td>\n",
              "      <td>C123</td>\n",
              "      <td>S</td>\n",
              "    </tr>\n",
              "    <tr>\n",
              "      <th>4</th>\n",
              "      <td>5</td>\n",
              "      <td>0</td>\n",
              "      <td>3</td>\n",
              "      <td>Allen, Mr. William Henry</td>\n",
              "      <td>male</td>\n",
              "      <td>35</td>\n",
              "      <td>0</td>\n",
              "      <td>0</td>\n",
              "      <td>373450</td>\n",
              "      <td>8.05</td>\n",
              "      <td>None</td>\n",
              "      <td>S</td>\n",
              "    </tr>\n",
              "    <tr>\n",
              "      <th>...</th>\n",
              "      <td>...</td>\n",
              "      <td>...</td>\n",
              "      <td>...</td>\n",
              "      <td>...</td>\n",
              "      <td>...</td>\n",
              "      <td>...</td>\n",
              "      <td>...</td>\n",
              "      <td>...</td>\n",
              "      <td>...</td>\n",
              "      <td>...</td>\n",
              "      <td>...</td>\n",
              "      <td>...</td>\n",
              "    </tr>\n",
              "    <tr>\n",
              "      <th>886</th>\n",
              "      <td>887</td>\n",
              "      <td>0</td>\n",
              "      <td>2</td>\n",
              "      <td>Montvila, Rev. Juozas</td>\n",
              "      <td>male</td>\n",
              "      <td>27</td>\n",
              "      <td>0</td>\n",
              "      <td>0</td>\n",
              "      <td>211536</td>\n",
              "      <td>13</td>\n",
              "      <td>None</td>\n",
              "      <td>S</td>\n",
              "    </tr>\n",
              "    <tr>\n",
              "      <th>887</th>\n",
              "      <td>888</td>\n",
              "      <td>1</td>\n",
              "      <td>1</td>\n",
              "      <td>Graham, Miss. Margaret Edith</td>\n",
              "      <td>female</td>\n",
              "      <td>19</td>\n",
              "      <td>0</td>\n",
              "      <td>0</td>\n",
              "      <td>112053</td>\n",
              "      <td>30</td>\n",
              "      <td>B42</td>\n",
              "      <td>S</td>\n",
              "    </tr>\n",
              "    <tr>\n",
              "      <th>888</th>\n",
              "      <td>889</td>\n",
              "      <td>0</td>\n",
              "      <td>3</td>\n",
              "      <td>\"Johnston, Miss. Catherine Helen \"\"Carrie\"\"\"</td>\n",
              "      <td>female</td>\n",
              "      <td>None</td>\n",
              "      <td>1</td>\n",
              "      <td>2</td>\n",
              "      <td>W./C. 6607</td>\n",
              "      <td>23.45</td>\n",
              "      <td>None</td>\n",
              "      <td>S</td>\n",
              "    </tr>\n",
              "    <tr>\n",
              "      <th>889</th>\n",
              "      <td>890</td>\n",
              "      <td>1</td>\n",
              "      <td>1</td>\n",
              "      <td>Behr, Mr. Karl Howell</td>\n",
              "      <td>male</td>\n",
              "      <td>26</td>\n",
              "      <td>0</td>\n",
              "      <td>0</td>\n",
              "      <td>111369</td>\n",
              "      <td>30</td>\n",
              "      <td>C148</td>\n",
              "      <td>C</td>\n",
              "    </tr>\n",
              "    <tr>\n",
              "      <th>890</th>\n",
              "      <td>891</td>\n",
              "      <td>0</td>\n",
              "      <td>3</td>\n",
              "      <td>Dooley, Mr. Patrick</td>\n",
              "      <td>male</td>\n",
              "      <td>32</td>\n",
              "      <td>0</td>\n",
              "      <td>0</td>\n",
              "      <td>370376</td>\n",
              "      <td>7.75</td>\n",
              "      <td>None</td>\n",
              "      <td>Q</td>\n",
              "    </tr>\n",
              "  </tbody>\n",
              "</table>\n",
              "<p>891 rows × 12 columns</p>\n",
              "</div>"
            ],
            "text/plain": [
              "    PassengerId Survived Pclass  ...     Fare Cabin Embarked\n",
              "0             1        0      3  ...     7.25  None        S\n",
              "1             2        1      1  ...  71.2833   C85        C\n",
              "2             3        1      3  ...    7.925  None        S\n",
              "3             4        1      1  ...     53.1  C123        S\n",
              "4             5        0      3  ...     8.05  None        S\n",
              "..          ...      ...    ...  ...      ...   ...      ...\n",
              "886         887        0      2  ...       13  None        S\n",
              "887         888        1      1  ...       30   B42        S\n",
              "888         889        0      3  ...    23.45  None        S\n",
              "889         890        1      1  ...       30  C148        C\n",
              "890         891        0      3  ...     7.75  None        Q\n",
              "\n",
              "[891 rows x 12 columns]"
            ]
          },
          "metadata": {
            "tags": []
          },
          "execution_count": 11
        }
      ]
    },
    {
      "cell_type": "markdown",
      "metadata": {
        "id": "1rA6Gzz1nazT"
      },
      "source": [
        "#**Checking information about your data**"
      ]
    },
    {
      "cell_type": "code",
      "metadata": {
        "colab": {
          "base_uri": "https://localhost:8080/"
        },
        "id": "XWPAIdXbfCUP",
        "outputId": "6808becb-e169-47f8-c59d-d56b13caa6a0"
      },
      "source": [
        "df.count()"
      ],
      "execution_count": 12,
      "outputs": [
        {
          "output_type": "execute_result",
          "data": {
            "text/plain": [
              "891"
            ]
          },
          "metadata": {
            "tags": []
          },
          "execution_count": 12
        }
      ]
    },
    {
      "cell_type": "code",
      "metadata": {
        "colab": {
          "base_uri": "https://localhost:8080/"
        },
        "id": "8D8fG_1SfPcE",
        "outputId": "a655a5e4-6cf6-4559-8319-61819b734245"
      },
      "source": [
        "df.columns"
      ],
      "execution_count": 13,
      "outputs": [
        {
          "output_type": "execute_result",
          "data": {
            "text/plain": [
              "['PassengerId',\n",
              " 'Survived',\n",
              " 'Pclass',\n",
              " 'Name',\n",
              " 'Sex',\n",
              " 'Age',\n",
              " 'SibSp',\n",
              " 'Parch',\n",
              " 'Ticket',\n",
              " 'Fare',\n",
              " 'Cabin',\n",
              " 'Embarked']"
            ]
          },
          "metadata": {
            "tags": []
          },
          "execution_count": 13
        }
      ]
    },
    {
      "cell_type": "code",
      "metadata": {
        "colab": {
          "base_uri": "https://localhost:8080/"
        },
        "id": "zFfJ4jj-fRNF",
        "outputId": "0d66912b-2f14-44c3-ea00-d9d5e49bab6c"
      },
      "source": [
        "df.dtypes"
      ],
      "execution_count": 14,
      "outputs": [
        {
          "output_type": "execute_result",
          "data": {
            "text/plain": [
              "[('PassengerId', 'string'),\n",
              " ('Survived', 'string'),\n",
              " ('Pclass', 'string'),\n",
              " ('Name', 'string'),\n",
              " ('Sex', 'string'),\n",
              " ('Age', 'string'),\n",
              " ('SibSp', 'string'),\n",
              " ('Parch', 'string'),\n",
              " ('Ticket', 'string'),\n",
              " ('Fare', 'string'),\n",
              " ('Cabin', 'string'),\n",
              " ('Embarked', 'string')]"
            ]
          },
          "metadata": {
            "tags": []
          },
          "execution_count": 14
        }
      ]
    },
    {
      "cell_type": "code",
      "metadata": {
        "colab": {
          "base_uri": "https://localhost:8080/",
          "height": 278
        },
        "id": "Xzfkjid9fU3A",
        "outputId": "702dfd2b-f0e1-4b67-aea6-616086906e1f"
      },
      "source": [
        "# Basics stats from our columns\r\n",
        "df.describe().toPandas()"
      ],
      "execution_count": 15,
      "outputs": [
        {
          "output_type": "execute_result",
          "data": {
            "text/html": [
              "<div>\n",
              "<style scoped>\n",
              "    .dataframe tbody tr th:only-of-type {\n",
              "        vertical-align: middle;\n",
              "    }\n",
              "\n",
              "    .dataframe tbody tr th {\n",
              "        vertical-align: top;\n",
              "    }\n",
              "\n",
              "    .dataframe thead th {\n",
              "        text-align: right;\n",
              "    }\n",
              "</style>\n",
              "<table border=\"1\" class=\"dataframe\">\n",
              "  <thead>\n",
              "    <tr style=\"text-align: right;\">\n",
              "      <th></th>\n",
              "      <th>summary</th>\n",
              "      <th>PassengerId</th>\n",
              "      <th>Survived</th>\n",
              "      <th>Pclass</th>\n",
              "      <th>Name</th>\n",
              "      <th>Sex</th>\n",
              "      <th>Age</th>\n",
              "      <th>SibSp</th>\n",
              "      <th>Parch</th>\n",
              "      <th>Ticket</th>\n",
              "      <th>Fare</th>\n",
              "      <th>Cabin</th>\n",
              "      <th>Embarked</th>\n",
              "    </tr>\n",
              "  </thead>\n",
              "  <tbody>\n",
              "    <tr>\n",
              "      <th>0</th>\n",
              "      <td>count</td>\n",
              "      <td>891</td>\n",
              "      <td>891</td>\n",
              "      <td>891</td>\n",
              "      <td>891</td>\n",
              "      <td>891</td>\n",
              "      <td>714</td>\n",
              "      <td>891</td>\n",
              "      <td>891</td>\n",
              "      <td>891</td>\n",
              "      <td>891</td>\n",
              "      <td>204</td>\n",
              "      <td>889</td>\n",
              "    </tr>\n",
              "    <tr>\n",
              "      <th>1</th>\n",
              "      <td>mean</td>\n",
              "      <td>446.0</td>\n",
              "      <td>0.3838383838383838</td>\n",
              "      <td>2.308641975308642</td>\n",
              "      <td>None</td>\n",
              "      <td>None</td>\n",
              "      <td>29.69911764705882</td>\n",
              "      <td>0.5230078563411896</td>\n",
              "      <td>0.38159371492704824</td>\n",
              "      <td>260318.54916792738</td>\n",
              "      <td>32.2042079685746</td>\n",
              "      <td>None</td>\n",
              "      <td>None</td>\n",
              "    </tr>\n",
              "    <tr>\n",
              "      <th>2</th>\n",
              "      <td>stddev</td>\n",
              "      <td>257.3538420152301</td>\n",
              "      <td>0.48659245426485753</td>\n",
              "      <td>0.8360712409770491</td>\n",
              "      <td>None</td>\n",
              "      <td>None</td>\n",
              "      <td>14.526497332334035</td>\n",
              "      <td>1.1027434322934315</td>\n",
              "      <td>0.8060572211299488</td>\n",
              "      <td>471609.26868834975</td>\n",
              "      <td>49.69342859718089</td>\n",
              "      <td>None</td>\n",
              "      <td>None</td>\n",
              "    </tr>\n",
              "    <tr>\n",
              "      <th>3</th>\n",
              "      <td>min</td>\n",
              "      <td>1</td>\n",
              "      <td>0</td>\n",
              "      <td>1</td>\n",
              "      <td>\"Andersson, Mr. August Edvard (\"\"Wennerstrom\"\")\"</td>\n",
              "      <td>female</td>\n",
              "      <td>0.42</td>\n",
              "      <td>0</td>\n",
              "      <td>0</td>\n",
              "      <td>110152</td>\n",
              "      <td>0</td>\n",
              "      <td>A10</td>\n",
              "      <td>C</td>\n",
              "    </tr>\n",
              "    <tr>\n",
              "      <th>4</th>\n",
              "      <td>max</td>\n",
              "      <td>99</td>\n",
              "      <td>1</td>\n",
              "      <td>3</td>\n",
              "      <td>van Melkebeke, Mr. Philemon</td>\n",
              "      <td>male</td>\n",
              "      <td>9</td>\n",
              "      <td>8</td>\n",
              "      <td>6</td>\n",
              "      <td>WE/P 5735</td>\n",
              "      <td>93.5</td>\n",
              "      <td>T</td>\n",
              "      <td>S</td>\n",
              "    </tr>\n",
              "  </tbody>\n",
              "</table>\n",
              "</div>"
            ],
            "text/plain": [
              "  summary        PassengerId  ... Cabin Embarked\n",
              "0   count                891  ...   204      889\n",
              "1    mean              446.0  ...  None     None\n",
              "2  stddev  257.3538420152301  ...  None     None\n",
              "3     min                  1  ...   A10        C\n",
              "4     max                 99  ...     T        S\n",
              "\n",
              "[5 rows x 13 columns]"
            ]
          },
          "metadata": {
            "tags": []
          },
          "execution_count": 15
        }
      ]
    },
    {
      "cell_type": "markdown",
      "metadata": {
        "id": "j9LOdp3TgL-d"
      },
      "source": [
        "#**Feature Engineering**"
      ]
    },
    {
      "cell_type": "code",
      "metadata": {
        "colab": {
          "base_uri": "https://localhost:8080/"
        },
        "id": "7aGJ8sUlfbaW",
        "outputId": "c6027ece-20ad-47d8-bb9b-c15f4ba24786"
      },
      "source": [
        "from pyspark.sql.functions import col\r\n",
        "dataset = df.select(col('Survived').cast('float'),\r\n",
        "                         col('Pclass').cast('float'),\r\n",
        "                         col('Sex'),\r\n",
        "                         col('Age').cast('float'),\r\n",
        "                         col('Fare').cast('float'),\r\n",
        "                         col('Embarked')\r\n",
        "                        )\r\n",
        "dataset.show()"
      ],
      "execution_count": 18,
      "outputs": [
        {
          "output_type": "stream",
          "text": [
            "+--------+------+------+----+-------+--------+\n",
            "|Survived|Pclass|   Sex| Age|   Fare|Embarked|\n",
            "+--------+------+------+----+-------+--------+\n",
            "|     0.0|   3.0|  male|22.0|   7.25|       S|\n",
            "|     1.0|   1.0|female|38.0|71.2833|       C|\n",
            "|     1.0|   3.0|female|26.0|  7.925|       S|\n",
            "|     1.0|   1.0|female|35.0|   53.1|       S|\n",
            "|     0.0|   3.0|  male|35.0|   8.05|       S|\n",
            "|     0.0|   3.0|  male|null| 8.4583|       Q|\n",
            "|     0.0|   1.0|  male|54.0|51.8625|       S|\n",
            "|     0.0|   3.0|  male| 2.0| 21.075|       S|\n",
            "|     1.0|   3.0|female|27.0|11.1333|       S|\n",
            "|     1.0|   2.0|female|14.0|30.0708|       C|\n",
            "|     1.0|   3.0|female| 4.0|   16.7|       S|\n",
            "|     1.0|   1.0|female|58.0|  26.55|       S|\n",
            "|     0.0|   3.0|  male|20.0|   8.05|       S|\n",
            "|     0.0|   3.0|  male|39.0| 31.275|       S|\n",
            "|     0.0|   3.0|female|14.0| 7.8542|       S|\n",
            "|     1.0|   2.0|female|55.0|   16.0|       S|\n",
            "|     0.0|   3.0|  male| 2.0| 29.125|       Q|\n",
            "|     1.0|   2.0|  male|null|   13.0|       S|\n",
            "|     0.0|   3.0|female|31.0|   18.0|       S|\n",
            "|     1.0|   3.0|female|null|  7.225|       C|\n",
            "+--------+------+------+----+-------+--------+\n",
            "only showing top 20 rows\n",
            "\n"
          ],
          "name": "stdout"
        }
      ]
    },
    {
      "cell_type": "code",
      "metadata": {
        "colab": {
          "base_uri": "https://localhost:8080/"
        },
        "id": "aw64pfZofsSz",
        "outputId": "00684548-440a-4c11-ace8-731ee05437be"
      },
      "source": [
        "from pyspark.sql.functions import isnull, when, count, col\r\n",
        "dataset.select([count(when(isnull(c), c)).alias(c) for c in dataset.columns]).show()"
      ],
      "execution_count": 19,
      "outputs": [
        {
          "output_type": "stream",
          "text": [
            "+--------+------+---+---+----+--------+\n",
            "|Survived|Pclass|Sex|Age|Fare|Embarked|\n",
            "+--------+------+---+---+----+--------+\n",
            "|       0|     0|  0|177|   0|       2|\n",
            "+--------+------+---+---+----+--------+\n",
            "\n"
          ],
          "name": "stdout"
        }
      ]
    },
    {
      "cell_type": "code",
      "metadata": {
        "id": "nMOda_s-gIwL"
      },
      "source": [
        "dataset = dataset.replace('?', None)\\\r\n",
        "        .dropna(how='any')"
      ],
      "execution_count": 20,
      "outputs": []
    },
    {
      "cell_type": "markdown",
      "metadata": {
        "id": "eyjr8yQRgyWt"
      },
      "source": [
        " we want to use the Sex and the Embarked column. For that, we will need to encode them. To do it let’s use something called the StringIndexer"
      ]
    },
    {
      "cell_type": "code",
      "metadata": {
        "colab": {
          "base_uri": "https://localhost:8080/"
        },
        "id": "KwUpeugygYcA",
        "outputId": "95987aa0-1fb0-437d-8e24-49ee3b43cca7"
      },
      "source": [
        "from pyspark.ml.feature import StringIndexer\r\n",
        "dataset = StringIndexer(\r\n",
        "    inputCol='Sex', \r\n",
        "    outputCol='Gender', \r\n",
        "    handleInvalid='keep').fit(dataset).transform(dataset)\r\n",
        "\r\n",
        "dataset = StringIndexer(\r\n",
        "    inputCol='Embarked', \r\n",
        "    outputCol='Boarded', \r\n",
        "    handleInvalid='keep').fit(dataset).transform(dataset)\r\n",
        "dataset.show()"
      ],
      "execution_count": 22,
      "outputs": [
        {
          "output_type": "stream",
          "text": [
            "+--------+------+------+----+-------+--------+------+-------+\n",
            "|Survived|Pclass|   Sex| Age|   Fare|Embarked|Gender|Boarded|\n",
            "+--------+------+------+----+-------+--------+------+-------+\n",
            "|     0.0|   3.0|  male|22.0|   7.25|       S|   0.0|    0.0|\n",
            "|     1.0|   1.0|female|38.0|71.2833|       C|   1.0|    1.0|\n",
            "|     1.0|   3.0|female|26.0|  7.925|       S|   1.0|    0.0|\n",
            "|     1.0|   1.0|female|35.0|   53.1|       S|   1.0|    0.0|\n",
            "|     0.0|   3.0|  male|35.0|   8.05|       S|   0.0|    0.0|\n",
            "|     0.0|   1.0|  male|54.0|51.8625|       S|   0.0|    0.0|\n",
            "|     0.0|   3.0|  male| 2.0| 21.075|       S|   0.0|    0.0|\n",
            "|     1.0|   3.0|female|27.0|11.1333|       S|   1.0|    0.0|\n",
            "|     1.0|   2.0|female|14.0|30.0708|       C|   1.0|    1.0|\n",
            "|     1.0|   3.0|female| 4.0|   16.7|       S|   1.0|    0.0|\n",
            "|     1.0|   1.0|female|58.0|  26.55|       S|   1.0|    0.0|\n",
            "|     0.0|   3.0|  male|20.0|   8.05|       S|   0.0|    0.0|\n",
            "|     0.0|   3.0|  male|39.0| 31.275|       S|   0.0|    0.0|\n",
            "|     0.0|   3.0|female|14.0| 7.8542|       S|   1.0|    0.0|\n",
            "|     1.0|   2.0|female|55.0|   16.0|       S|   1.0|    0.0|\n",
            "|     0.0|   3.0|  male| 2.0| 29.125|       Q|   0.0|    2.0|\n",
            "|     0.0|   3.0|female|31.0|   18.0|       S|   1.0|    0.0|\n",
            "|     0.0|   2.0|  male|35.0|   26.0|       S|   0.0|    0.0|\n",
            "|     1.0|   2.0|  male|34.0|   13.0|       S|   0.0|    0.0|\n",
            "|     1.0|   3.0|female|15.0| 8.0292|       Q|   1.0|    2.0|\n",
            "+--------+------+------+----+-------+--------+------+-------+\n",
            "only showing top 20 rows\n",
            "\n"
          ],
          "name": "stdout"
        }
      ]
    },
    {
      "cell_type": "markdown",
      "metadata": {
        "id": "poa2KXFYhLVm"
      },
      "source": [
        "Here I have created two new columns “Gender” and “Boarded” that contain the same information as “Sex” and “Embarked” but now they are numeric."
      ]
    },
    {
      "cell_type": "code",
      "metadata": {
        "colab": {
          "base_uri": "https://localhost:8080/"
        },
        "id": "c_qReRkLg3kM",
        "outputId": "8d2a868d-76cd-418c-d0b9-cbbd482df0eb"
      },
      "source": [
        "dataset.dtypes"
      ],
      "execution_count": 23,
      "outputs": [
        {
          "output_type": "execute_result",
          "data": {
            "text/plain": [
              "[('Survived', 'float'),\n",
              " ('Pclass', 'float'),\n",
              " ('Sex', 'string'),\n",
              " ('Age', 'float'),\n",
              " ('Fare', 'float'),\n",
              " ('Embarked', 'string'),\n",
              " ('Gender', 'double'),\n",
              " ('Boarded', 'double')]"
            ]
          },
          "metadata": {
            "tags": []
          },
          "execution_count": 23
        }
      ]
    },
    {
      "cell_type": "markdown",
      "metadata": {
        "id": "5SWUmPxghaNE"
      },
      "source": [
        "Get rid of the old columns “Sex” and “Embarked” because we won’t be using them"
      ]
    },
    {
      "cell_type": "code",
      "metadata": {
        "colab": {
          "base_uri": "https://localhost:8080/"
        },
        "id": "N7Ot7aZwhTGE",
        "outputId": "94a9e818-edf3-42b0-b074-a41b34cbbc1e"
      },
      "source": [
        "# Drop unnecessary columns\r\n",
        "dataset = dataset.drop('Sex')\r\n",
        "dataset = dataset.drop('Embarked')\r\n",
        "dataset.show()"
      ],
      "execution_count": 25,
      "outputs": [
        {
          "output_type": "stream",
          "text": [
            "+--------+------+----+-------+------+-------+\n",
            "|Survived|Pclass| Age|   Fare|Gender|Boarded|\n",
            "+--------+------+----+-------+------+-------+\n",
            "|     0.0|   3.0|22.0|   7.25|   0.0|    0.0|\n",
            "|     1.0|   1.0|38.0|71.2833|   1.0|    1.0|\n",
            "|     1.0|   3.0|26.0|  7.925|   1.0|    0.0|\n",
            "|     1.0|   1.0|35.0|   53.1|   1.0|    0.0|\n",
            "|     0.0|   3.0|35.0|   8.05|   0.0|    0.0|\n",
            "|     0.0|   1.0|54.0|51.8625|   0.0|    0.0|\n",
            "|     0.0|   3.0| 2.0| 21.075|   0.0|    0.0|\n",
            "|     1.0|   3.0|27.0|11.1333|   1.0|    0.0|\n",
            "|     1.0|   2.0|14.0|30.0708|   1.0|    1.0|\n",
            "|     1.0|   3.0| 4.0|   16.7|   1.0|    0.0|\n",
            "|     1.0|   1.0|58.0|  26.55|   1.0|    0.0|\n",
            "|     0.0|   3.0|20.0|   8.05|   0.0|    0.0|\n",
            "|     0.0|   3.0|39.0| 31.275|   0.0|    0.0|\n",
            "|     0.0|   3.0|14.0| 7.8542|   1.0|    0.0|\n",
            "|     1.0|   2.0|55.0|   16.0|   1.0|    0.0|\n",
            "|     0.0|   3.0| 2.0| 29.125|   0.0|    2.0|\n",
            "|     0.0|   3.0|31.0|   18.0|   1.0|    0.0|\n",
            "|     0.0|   2.0|35.0|   26.0|   0.0|    0.0|\n",
            "|     1.0|   2.0|34.0|   13.0|   0.0|    0.0|\n",
            "|     1.0|   3.0|15.0| 8.0292|   1.0|    2.0|\n",
            "+--------+------+----+-------+------+-------+\n",
            "only showing top 20 rows\n",
            "\n"
          ],
          "name": "stdout"
        }
      ]
    },
    {
      "cell_type": "code",
      "metadata": {
        "id": "1zsdnSEmhddY"
      },
      "source": [
        "# Assemble all the features with VectorAssembler\r\n",
        "#featured for predicting survived or not\r\n",
        "required_features = ['Pclass',\r\n",
        "                    'Age',\r\n",
        "                    'Fare',\r\n",
        "                    'Gender',\r\n",
        "                    'Boarded'\r\n",
        "                   ]\r\n",
        "from pyspark.ml.feature import VectorAssembler\r\n",
        "assembler = VectorAssembler(inputCols=required_features, \r\n",
        "                            outputCol='features')\r\n",
        "transformed_data = assembler.transform(dataset)"
      ],
      "execution_count": 28,
      "outputs": []
    },
    {
      "cell_type": "code",
      "metadata": {
        "colab": {
          "base_uri": "https://localhost:8080/"
        },
        "id": "rrnhADItjBXk",
        "outputId": "addf466e-d0fc-4f1e-f067-4aea066fdc53"
      },
      "source": [
        "transformed_data.show()"
      ],
      "execution_count": 30,
      "outputs": [
        {
          "output_type": "stream",
          "text": [
            "+--------+------+----+-------+------+-------+--------------------+\n",
            "|Survived|Pclass| Age|   Fare|Gender|Boarded|            features|\n",
            "+--------+------+----+-------+------+-------+--------------------+\n",
            "|     0.0|   3.0|22.0|   7.25|   0.0|    0.0|[3.0,22.0,7.25,0....|\n",
            "|     1.0|   1.0|38.0|71.2833|   1.0|    1.0|[1.0,38.0,71.2833...|\n",
            "|     1.0|   3.0|26.0|  7.925|   1.0|    0.0|[3.0,26.0,7.92500...|\n",
            "|     1.0|   1.0|35.0|   53.1|   1.0|    0.0|[1.0,35.0,53.0999...|\n",
            "|     0.0|   3.0|35.0|   8.05|   0.0|    0.0|[3.0,35.0,8.05000...|\n",
            "|     0.0|   1.0|54.0|51.8625|   0.0|    0.0|[1.0,54.0,51.8624...|\n",
            "|     0.0|   3.0| 2.0| 21.075|   0.0|    0.0|[3.0,2.0,21.07500...|\n",
            "|     1.0|   3.0|27.0|11.1333|   1.0|    0.0|[3.0,27.0,11.1332...|\n",
            "|     1.0|   2.0|14.0|30.0708|   1.0|    1.0|[2.0,14.0,30.0708...|\n",
            "|     1.0|   3.0| 4.0|   16.7|   1.0|    0.0|[3.0,4.0,16.70000...|\n",
            "|     1.0|   1.0|58.0|  26.55|   1.0|    0.0|[1.0,58.0,26.5499...|\n",
            "|     0.0|   3.0|20.0|   8.05|   0.0|    0.0|[3.0,20.0,8.05000...|\n",
            "|     0.0|   3.0|39.0| 31.275|   0.0|    0.0|[3.0,39.0,31.2749...|\n",
            "|     0.0|   3.0|14.0| 7.8542|   1.0|    0.0|[3.0,14.0,7.85419...|\n",
            "|     1.0|   2.0|55.0|   16.0|   1.0|    0.0|[2.0,55.0,16.0,1....|\n",
            "|     0.0|   3.0| 2.0| 29.125|   0.0|    2.0|[3.0,2.0,29.125,0...|\n",
            "|     0.0|   3.0|31.0|   18.0|   1.0|    0.0|[3.0,31.0,18.0,1....|\n",
            "|     0.0|   2.0|35.0|   26.0|   0.0|    0.0|[2.0,35.0,26.0,0....|\n",
            "|     1.0|   2.0|34.0|   13.0|   0.0|    0.0|[2.0,34.0,13.0,0....|\n",
            "|     1.0|   3.0|15.0| 8.0292|   1.0|    2.0|[3.0,15.0,8.02919...|\n",
            "+--------+------+----+-------+------+-------+--------------------+\n",
            "only showing top 20 rows\n",
            "\n"
          ],
          "name": "stdout"
        }
      ]
    },
    {
      "cell_type": "markdown",
      "metadata": {
        "id": "vlCvdJw-j8Dm"
      },
      "source": [
        "#**Modeling**"
      ]
    },
    {
      "cell_type": "code",
      "metadata": {
        "id": "zyF8SnC8jGPU"
      },
      "source": [
        "(training_data, test_data) = transformed_data.randomSplit([0.8,0.2])"
      ],
      "execution_count": 31,
      "outputs": []
    },
    {
      "cell_type": "code",
      "metadata": {
        "id": "mGmhyljfj_-Q"
      },
      "source": [
        "from pyspark.ml.classification import RandomForestClassifier\r\n",
        "rf = RandomForestClassifier(labelCol='Survived', \r\n",
        "                            featuresCol='features',\r\n",
        "                            maxDepth=5)"
      ],
      "execution_count": 32,
      "outputs": []
    },
    {
      "cell_type": "code",
      "metadata": {
        "id": "nTVL3qhkkN_g"
      },
      "source": [
        "model = rf.fit(training_data)"
      ],
      "execution_count": 33,
      "outputs": []
    },
    {
      "cell_type": "code",
      "metadata": {
        "id": "_VOHoxLAkRru"
      },
      "source": [
        "predictions = model.transform(test_data)"
      ],
      "execution_count": 34,
      "outputs": []
    },
    {
      "cell_type": "code",
      "metadata": {
        "id": "S_Eucp4ckW8_"
      },
      "source": [
        "# Evaluate our model\r\n",
        "from pyspark.ml.evaluation import MulticlassClassificationEvaluator\r\n",
        "evaluator = MulticlassClassificationEvaluator(\r\n",
        "    labelCol='Survived', \r\n",
        "    predictionCol='prediction', \r\n",
        "    metricName='accuracy')"
      ],
      "execution_count": 35,
      "outputs": []
    },
    {
      "cell_type": "code",
      "metadata": {
        "colab": {
          "base_uri": "https://localhost:8080/"
        },
        "id": "y-oJT2-bkj3d",
        "outputId": "d1c2187c-b423-4eb7-c2a1-0aa8ef112fb8"
      },
      "source": [
        "accuracy = evaluator.evaluate(predictions)\r\n",
        "print('Test Accuracy = ', accuracy)"
      ],
      "execution_count": 36,
      "outputs": [
        {
          "output_type": "stream",
          "text": [
            "Test Accuracy =  0.7969924812030075\n"
          ],
          "name": "stdout"
        }
      ]
    }
  ]
}